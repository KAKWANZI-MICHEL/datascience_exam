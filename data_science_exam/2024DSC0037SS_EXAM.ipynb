{
 "cells": [
  {
   "cell_type": "markdown",
   "id": "f387391f-be0d-44c8-94a4-068f7a9cc708",
   "metadata": {},
   "source": [
    "## 2024/DSC/0037/SS"
   ]
  },
  {
   "cell_type": "markdown",
   "id": "c30b7379-e16d-47f4-9135-0f2c8755c9e9",
   "metadata": {},
   "source": [
    "## Question 1"
   ]
  },
  {
   "cell_type": "markdown",
   "id": "dab14596-bf05-4feb-912b-96913d610942",
   "metadata": {},
   "source": [
    " ##  Variation and Variability in  Income-wages \n",
    " ## (a) Typical Income\n",
    "## To determine a 'typical' Income-wages, we can calculate the mean and median of the income-wages."
   ]
  },
  {
   "cell_type": "markdown",
   "id": "fbe0d32d-ddcc-4073-9595-92ca4ecc70f1",
   "metadata": {},
   "source": []
  },
  {
   "cell_type": "markdown",
   "id": "961c5512-968d-4873-bbee-bd528143f725",
   "metadata": {},
   "source": [
    "## Import libraries"
   ]
  },
  {
   "cell_type": "code",
   "execution_count": 1,
   "id": "d738544a-fe98-4fd3-9307-b8cac2f1e87f",
   "metadata": {},
   "outputs": [],
   "source": [
    "import pandas as pd\n"
   ]
  },
  {
   "cell_type": "code",
   "execution_count": 7,
   "id": "356f0dd8-e830-433e-b0e3-cb66710d807e",
   "metadata": {},
   "outputs": [],
   "source": [
    "import numpy as np"
   ]
  },
  {
   "cell_type": "code",
   "execution_count": 8,
   "id": "35375fcb-8054-4646-a76d-771bff8e7873",
   "metadata": {},
   "outputs": [],
   "source": [
    "import seaborn as sns"
   ]
  },
  {
   "cell_type": "code",
   "execution_count": 14,
   "id": "092fc197-9586-4670-9348-91699e11d53e",
   "metadata": {},
   "outputs": [],
   "source": [
    "import matplotlib.pyplot as plt"
   ]
  },
  {
   "cell_type": "code",
   "execution_count": 56,
   "id": "c0b8e523-d03e-4f23-bf84-4ccdf46515ba",
   "metadata": {},
   "outputs": [
    {
     "name": "stdout",
     "output_type": "stream",
     "text": [
      "Collecting scikit-learn\n",
      "  Downloading scikit_learn-1.6.0-cp312-cp312-win_amd64.whl.metadata (15 kB)\n",
      "Requirement already satisfied: numpy>=1.19.5 in c:\\users\\user\\appdata\\local\\programs\\python\\python312\\lib\\site-packages (from scikit-learn) (2.1.1)\n",
      "Requirement already satisfied: scipy>=1.6.0 in c:\\users\\user\\appdata\\local\\programs\\python\\python312\\lib\\site-packages (from scikit-learn) (1.14.1)\n",
      "Collecting joblib>=1.2.0 (from scikit-learn)\n",
      "  Downloading joblib-1.4.2-py3-none-any.whl.metadata (5.4 kB)\n",
      "Collecting threadpoolctl>=3.1.0 (from scikit-learn)\n",
      "  Downloading threadpoolctl-3.5.0-py3-none-any.whl.metadata (13 kB)Note: you may need to restart the kernel to use updated packages.\n",
      "\n",
      "Downloading scikit_learn-1.6.0-cp312-cp312-win_amd64.whl (11.1 MB)\n",
      "   ---------------------------------------- 0.0/11.1 MB ? eta -:--:--\n",
      "    --------------------------------------- 0.3/11.1 MB ? eta -:--:--\n",
      "   -------- ------------------------------- 2.4/11.1 MB 7.4 MB/s eta 0:00:02\n",
      "   ---------------- ----------------------- 4.7/11.1 MB 9.2 MB/s eta 0:00:01\n",
      "   -------------------------- ------------- 7.3/11.1 MB 10.1 MB/s eta 0:00:01\n",
      "   --------------------------------- ------ 9.4/11.1 MB 10.3 MB/s eta 0:00:01\n",
      "   ---------------------------------------  11.0/11.1 MB 10.4 MB/s eta 0:00:01\n",
      "   ---------------------------------------  11.0/11.1 MB 10.4 MB/s eta 0:00:01\n",
      "   ---------------------------------------- 11.1/11.1 MB 7.1 MB/s eta 0:00:00\n",
      "Downloading joblib-1.4.2-py3-none-any.whl (301 kB)\n",
      "Downloading threadpoolctl-3.5.0-py3-none-any.whl (18 kB)\n",
      "Installing collected packages: threadpoolctl, joblib, scikit-learn\n",
      "Successfully installed joblib-1.4.2 scikit-learn-1.6.0 threadpoolctl-3.5.0\n"
     ]
    },
    {
     "name": "stderr",
     "output_type": "stream",
     "text": [
      "\n",
      "[notice] A new release of pip is available: 24.2 -> 24.3.1\n",
      "[notice] To update, run: python.exe -m pip install --upgrade pip\n"
     ]
    }
   ],
   "source": [
    "pip install scikit-learn"
   ]
  },
  {
   "cell_type": "code",
   "execution_count": 57,
   "id": "d9bb34b3-c010-4fcc-999e-469f049ac485",
   "metadata": {},
   "outputs": [],
   "source": [
    "from sklearn.linear_model import LinearRegression\n"
   ]
  },
  {
   "cell_type": "code",
   "execution_count": 58,
   "id": "fd4bcce2-547b-4fa6-a51a-36e1eac2fe6e",
   "metadata": {},
   "outputs": [],
   "source": [
    "from sklearn.metrics import mean_squared_error"
   ]
  },
  {
   "cell_type": "code",
   "execution_count": 59,
   "id": "0a0538b0-dc79-4e6b-b417-6ef77ad9248c",
   "metadata": {},
   "outputs": [],
   "source": [
    "from sklearn.model_selection import train_test_split"
   ]
  },
  {
   "cell_type": "code",
   "execution_count": 20,
   "id": "0714b144-410c-4a19-9d8b-8d80fd82d0c1",
   "metadata": {},
   "outputs": [
    {
     "name": "stdout",
     "output_type": "stream",
     "text": [
      "Requirement already satisfied: openpyxl in c:\\users\\user\\appdata\\local\\programs\\python\\python312\\lib\\site-packages (3.1.5)Note: you may need to restart the kernel to use updated packages.\n",
      "\n",
      "Requirement already satisfied: et-xmlfile in c:\\users\\user\\appdata\\local\\programs\\python\\python312\\lib\\site-packages (from openpyxl) (2.0.0)\n"
     ]
    },
    {
     "name": "stderr",
     "output_type": "stream",
     "text": [
      "\n",
      "[notice] A new release of pip is available: 24.2 -> 24.3.1\n",
      "[notice] To update, run: python.exe -m pip install --upgrade pip\n"
     ]
    }
   ],
   "source": [
    "pip install openpyxl"
   ]
  },
  {
   "cell_type": "markdown",
   "id": "fb5e5918-640e-4b0d-9891-4f1bc20160ca",
   "metadata": {},
   "source": [
    "## import dataset"
   ]
  },
  {
   "cell_type": "code",
   "execution_count": 21,
   "id": "63778066-7191-4a0c-a2f4-ffd94fa9cecf",
   "metadata": {},
   "outputs": [
    {
     "data": {
      "text/html": [
       "<div>\n",
       "<style scoped>\n",
       "    .dataframe tbody tr th:only-of-type {\n",
       "        vertical-align: middle;\n",
       "    }\n",
       "\n",
       "    .dataframe tbody tr th {\n",
       "        vertical-align: top;\n",
       "    }\n",
       "\n",
       "    .dataframe thead th {\n",
       "        text-align: right;\n",
       "    }\n",
       "</style>\n",
       "<table border=\"1\" class=\"dataframe\">\n",
       "  <thead>\n",
       "    <tr style=\"text-align: right;\">\n",
       "      <th></th>\n",
       "      <th>Age</th>\n",
       "      <th>Sex</th>\n",
       "      <th>Marital_status</th>\n",
       "      <th>Number_of_children</th>\n",
       "      <th>Family_size</th>\n",
       "      <th>Education-degree_recode</th>\n",
       "      <th>Education-degree_recode 2</th>\n",
       "      <th>Education</th>\n",
       "      <th>Race_ethnicity-multi_recode</th>\n",
       "      <th>Immigrate-year</th>\n",
       "      <th>Birthplace_recode</th>\n",
       "      <th>Speaks_English</th>\n",
       "      <th>Employment_status</th>\n",
       "      <th>Income-wages</th>\n",
       "      <th>Region_recode</th>\n",
       "      <th>Region-division_recode</th>\n",
       "      <th>Moved</th>\n",
       "      <th>Year</th>\n",
       "      <th>state</th>\n",
       "    </tr>\n",
       "  </thead>\n",
       "  <tbody>\n",
       "    <tr>\n",
       "      <th>0</th>\n",
       "      <td>30</td>\n",
       "      <td>Male</td>\n",
       "      <td>Married, spouse present</td>\n",
       "      <td>2</td>\n",
       "      <td>4</td>\n",
       "      <td>Masterâ€™s or professional degree</td>\n",
       "      <td>Master or professional degree</td>\n",
       "      <td>Master or PhD or professional degree</td>\n",
       "      <td>Non-Hispanic White</td>\n",
       "      <td>0</td>\n",
       "      <td>U.S. state, territory, or outlying region</td>\n",
       "      <td>Yes, speaks only English</td>\n",
       "      <td>Employed</td>\n",
       "      <td>63000</td>\n",
       "      <td>South</td>\n",
       "      <td>East South Central</td>\n",
       "      <td>Same house</td>\n",
       "      <td>2020</td>\n",
       "      <td>Tennessee</td>\n",
       "    </tr>\n",
       "    <tr>\n",
       "      <th>1</th>\n",
       "      <td>28</td>\n",
       "      <td>Female</td>\n",
       "      <td>Married, spouse present</td>\n",
       "      <td>1 child present</td>\n",
       "      <td>3</td>\n",
       "      <td>Masterâ€™s or professional degree</td>\n",
       "      <td>Master or professional degree</td>\n",
       "      <td>Master or PhD or professional degree</td>\n",
       "      <td>Non-Hispanic White</td>\n",
       "      <td>0</td>\n",
       "      <td>U.S. state, territory, or outlying region</td>\n",
       "      <td>Yes, speaks only English</td>\n",
       "      <td>Employed</td>\n",
       "      <td>46000</td>\n",
       "      <td>South</td>\n",
       "      <td>East South Central</td>\n",
       "      <td>Same house</td>\n",
       "      <td>2020</td>\n",
       "      <td>Tennessee</td>\n",
       "    </tr>\n",
       "    <tr>\n",
       "      <th>2</th>\n",
       "      <td>34</td>\n",
       "      <td>Male</td>\n",
       "      <td>Married, spouse present</td>\n",
       "      <td>1 child present</td>\n",
       "      <td>3</td>\n",
       "      <td>Bachelorâ€™s degree</td>\n",
       "      <td>Bachelor degree</td>\n",
       "      <td>Associate or Bachelor degree</td>\n",
       "      <td>Non-Hispanic White</td>\n",
       "      <td>0</td>\n",
       "      <td>U.S. state, territory, or outlying region</td>\n",
       "      <td>Yes, speaks only English</td>\n",
       "      <td>Employed</td>\n",
       "      <td>45000</td>\n",
       "      <td>South</td>\n",
       "      <td>East South Central</td>\n",
       "      <td>Same house</td>\n",
       "      <td>2020</td>\n",
       "      <td>Tennessee</td>\n",
       "    </tr>\n",
       "    <tr>\n",
       "      <th>3</th>\n",
       "      <td>58</td>\n",
       "      <td>Female</td>\n",
       "      <td>Married, spouse absent</td>\n",
       "      <td>1 child present</td>\n",
       "      <td>2</td>\n",
       "      <td>1 or more years of college, no degree</td>\n",
       "      <td>1 or more years of college, no degree</td>\n",
       "      <td>1 or more years of college, no degree</td>\n",
       "      <td>Non-Hispanic White</td>\n",
       "      <td>0</td>\n",
       "      <td>U.S. state, territory, or outlying region</td>\n",
       "      <td>Yes, speaks only English</td>\n",
       "      <td>Employed</td>\n",
       "      <td>55000</td>\n",
       "      <td>South</td>\n",
       "      <td>East South Central</td>\n",
       "      <td>Same house</td>\n",
       "      <td>2020</td>\n",
       "      <td>Tennessee</td>\n",
       "    </tr>\n",
       "    <tr>\n",
       "      <th>4</th>\n",
       "      <td>39</td>\n",
       "      <td>Male</td>\n",
       "      <td>Never married/single</td>\n",
       "      <td>0 children present</td>\n",
       "      <td>1</td>\n",
       "      <td>Bachelorâ€™s degree</td>\n",
       "      <td>Bachelor degree</td>\n",
       "      <td>Associate or Bachelor degree</td>\n",
       "      <td>Non-Hispanic White</td>\n",
       "      <td>0</td>\n",
       "      <td>U.S. state, territory, or outlying region</td>\n",
       "      <td>Yes, speaks only English</td>\n",
       "      <td>Employed</td>\n",
       "      <td>12000</td>\n",
       "      <td>South</td>\n",
       "      <td>East South Central</td>\n",
       "      <td>Same house</td>\n",
       "      <td>2020</td>\n",
       "      <td>Tennessee</td>\n",
       "    </tr>\n",
       "    <tr>\n",
       "      <th>...</th>\n",
       "      <td>...</td>\n",
       "      <td>...</td>\n",
       "      <td>...</td>\n",
       "      <td>...</td>\n",
       "      <td>...</td>\n",
       "      <td>...</td>\n",
       "      <td>...</td>\n",
       "      <td>...</td>\n",
       "      <td>...</td>\n",
       "      <td>...</td>\n",
       "      <td>...</td>\n",
       "      <td>...</td>\n",
       "      <td>...</td>\n",
       "      <td>...</td>\n",
       "      <td>...</td>\n",
       "      <td>...</td>\n",
       "      <td>...</td>\n",
       "      <td>...</td>\n",
       "      <td>...</td>\n",
       "    </tr>\n",
       "    <tr>\n",
       "      <th>4360</th>\n",
       "      <td>67</td>\n",
       "      <td>Male</td>\n",
       "      <td>Married, spouse present</td>\n",
       "      <td>0 children present</td>\n",
       "      <td>2</td>\n",
       "      <td>Bachelorâ€™s degree</td>\n",
       "      <td>Bachelor degree</td>\n",
       "      <td>Associate or Bachelor degree</td>\n",
       "      <td>Non-Hispanic White</td>\n",
       "      <td>0</td>\n",
       "      <td>U.S. state, territory, or outlying region</td>\n",
       "      <td>Yes, speaks only English</td>\n",
       "      <td>Employed</td>\n",
       "      <td>40000</td>\n",
       "      <td>Midwest</td>\n",
       "      <td>West North Central</td>\n",
       "      <td>Same house</td>\n",
       "      <td>2020</td>\n",
       "      <td>North Dakota</td>\n",
       "    </tr>\n",
       "    <tr>\n",
       "      <th>4361</th>\n",
       "      <td>48</td>\n",
       "      <td>Male</td>\n",
       "      <td>Married, spouse present</td>\n",
       "      <td>4</td>\n",
       "      <td>6</td>\n",
       "      <td>Associateâ€™s degree</td>\n",
       "      <td>Associate degree</td>\n",
       "      <td>Associate or Bachelor degree</td>\n",
       "      <td>Non-Hispanic White</td>\n",
       "      <td>0</td>\n",
       "      <td>U.S. state, territory, or outlying region</td>\n",
       "      <td>Yes, speaks only English</td>\n",
       "      <td>Employed</td>\n",
       "      <td>65000</td>\n",
       "      <td>Midwest</td>\n",
       "      <td>West North Central</td>\n",
       "      <td>Same house</td>\n",
       "      <td>2020</td>\n",
       "      <td>North Dakota</td>\n",
       "    </tr>\n",
       "    <tr>\n",
       "      <th>4362</th>\n",
       "      <td>33</td>\n",
       "      <td>Male</td>\n",
       "      <td>Married, spouse absent</td>\n",
       "      <td>0 children present</td>\n",
       "      <td>1</td>\n",
       "      <td>Associateâ€™s degree</td>\n",
       "      <td>Associate degree</td>\n",
       "      <td>Associate or Bachelor degree</td>\n",
       "      <td>Non-Hispanic Black</td>\n",
       "      <td>2017</td>\n",
       "      <td>Africa</td>\n",
       "      <td>Yes, speaks very well</td>\n",
       "      <td>Employed</td>\n",
       "      <td>45000</td>\n",
       "      <td>Midwest</td>\n",
       "      <td>West North Central</td>\n",
       "      <td>Same house</td>\n",
       "      <td>2020</td>\n",
       "      <td>North Dakota</td>\n",
       "    </tr>\n",
       "    <tr>\n",
       "      <th>4363</th>\n",
       "      <td>22</td>\n",
       "      <td>Female</td>\n",
       "      <td>Never married/single</td>\n",
       "      <td>0 children present</td>\n",
       "      <td>2</td>\n",
       "      <td>1 or more years of college, no degree</td>\n",
       "      <td>1 or more years of college, no degree</td>\n",
       "      <td>1 or more years of college, no degree</td>\n",
       "      <td>Non-Hispanic White</td>\n",
       "      <td>0</td>\n",
       "      <td>U.S. state, territory, or outlying region</td>\n",
       "      <td>Yes, speaks only English</td>\n",
       "      <td>Employed</td>\n",
       "      <td>500</td>\n",
       "      <td>Midwest</td>\n",
       "      <td>West North Central</td>\n",
       "      <td>Same house</td>\n",
       "      <td>2020</td>\n",
       "      <td>North Dakota</td>\n",
       "    </tr>\n",
       "    <tr>\n",
       "      <th>4364</th>\n",
       "      <td>49</td>\n",
       "      <td>Female</td>\n",
       "      <td>Married, spouse present</td>\n",
       "      <td>2</td>\n",
       "      <td>4</td>\n",
       "      <td>Masterâ€™s or professional degree</td>\n",
       "      <td>Master or professional degree</td>\n",
       "      <td>Master or PhD or professional degree</td>\n",
       "      <td>Non-Hispanic White</td>\n",
       "      <td>0</td>\n",
       "      <td>U.S. state, territory, or outlying region</td>\n",
       "      <td>Yes, speaks only English</td>\n",
       "      <td>Employed</td>\n",
       "      <td>498000</td>\n",
       "      <td>Midwest</td>\n",
       "      <td>West North Central</td>\n",
       "      <td>Same house</td>\n",
       "      <td>2020</td>\n",
       "      <td>North Dakota</td>\n",
       "    </tr>\n",
       "  </tbody>\n",
       "</table>\n",
       "<p>4365 rows × 19 columns</p>\n",
       "</div>"
      ],
      "text/plain": [
       "      Age     Sex           Marital_status  Number_of_children  Family_size  \\\n",
       "0      30    Male  Married, spouse present                   2            4   \n",
       "1      28  Female  Married, spouse present     1 child present            3   \n",
       "2      34    Male  Married, spouse present     1 child present            3   \n",
       "3      58  Female   Married, spouse absent     1 child present            2   \n",
       "4      39    Male     Never married/single  0 children present            1   \n",
       "...   ...     ...                      ...                 ...          ...   \n",
       "4360   67    Male  Married, spouse present  0 children present            2   \n",
       "4361   48    Male  Married, spouse present                   4            6   \n",
       "4362   33    Male   Married, spouse absent  0 children present            1   \n",
       "4363   22  Female     Never married/single  0 children present            2   \n",
       "4364   49  Female  Married, spouse present                   2            4   \n",
       "\n",
       "                    Education-degree_recode  \\\n",
       "0         Masterâ€™s or professional degree   \n",
       "1         Masterâ€™s or professional degree   \n",
       "2                       Bachelorâ€™s degree   \n",
       "3     1 or more years of college, no degree   \n",
       "4                       Bachelorâ€™s degree   \n",
       "...                                     ...   \n",
       "4360                    Bachelorâ€™s degree   \n",
       "4361                   Associateâ€™s degree   \n",
       "4362                   Associateâ€™s degree   \n",
       "4363  1 or more years of college, no degree   \n",
       "4364      Masterâ€™s or professional degree   \n",
       "\n",
       "                  Education-degree_recode 2  \\\n",
       "0             Master or professional degree   \n",
       "1             Master or professional degree   \n",
       "2                           Bachelor degree   \n",
       "3     1 or more years of college, no degree   \n",
       "4                           Bachelor degree   \n",
       "...                                     ...   \n",
       "4360                        Bachelor degree   \n",
       "4361                       Associate degree   \n",
       "4362                       Associate degree   \n",
       "4363  1 or more years of college, no degree   \n",
       "4364          Master or professional degree   \n",
       "\n",
       "                                  Education Race_ethnicity-multi_recode  \\\n",
       "0      Master or PhD or professional degree          Non-Hispanic White   \n",
       "1      Master or PhD or professional degree          Non-Hispanic White   \n",
       "2              Associate or Bachelor degree          Non-Hispanic White   \n",
       "3     1 or more years of college, no degree          Non-Hispanic White   \n",
       "4              Associate or Bachelor degree          Non-Hispanic White   \n",
       "...                                     ...                         ...   \n",
       "4360           Associate or Bachelor degree          Non-Hispanic White   \n",
       "4361           Associate or Bachelor degree          Non-Hispanic White   \n",
       "4362           Associate or Bachelor degree          Non-Hispanic Black   \n",
       "4363  1 or more years of college, no degree          Non-Hispanic White   \n",
       "4364   Master or PhD or professional degree          Non-Hispanic White   \n",
       "\n",
       "      Immigrate-year                          Birthplace_recode  \\\n",
       "0                  0  U.S. state, territory, or outlying region   \n",
       "1                  0  U.S. state, territory, or outlying region   \n",
       "2                  0  U.S. state, territory, or outlying region   \n",
       "3                  0  U.S. state, territory, or outlying region   \n",
       "4                  0  U.S. state, territory, or outlying region   \n",
       "...              ...                                        ...   \n",
       "4360               0  U.S. state, territory, or outlying region   \n",
       "4361               0  U.S. state, territory, or outlying region   \n",
       "4362            2017                                     Africa   \n",
       "4363               0  U.S. state, territory, or outlying region   \n",
       "4364               0  U.S. state, territory, or outlying region   \n",
       "\n",
       "                Speaks_English Employment_status  Income-wages Region_recode  \\\n",
       "0     Yes, speaks only English          Employed         63000         South   \n",
       "1     Yes, speaks only English          Employed         46000         South   \n",
       "2     Yes, speaks only English          Employed         45000         South   \n",
       "3     Yes, speaks only English          Employed         55000         South   \n",
       "4     Yes, speaks only English          Employed         12000         South   \n",
       "...                        ...               ...           ...           ...   \n",
       "4360  Yes, speaks only English          Employed         40000       Midwest   \n",
       "4361  Yes, speaks only English          Employed         65000       Midwest   \n",
       "4362     Yes, speaks very well          Employed         45000       Midwest   \n",
       "4363  Yes, speaks only English          Employed           500       Midwest   \n",
       "4364  Yes, speaks only English          Employed        498000       Midwest   \n",
       "\n",
       "     Region-division_recode       Moved  Year         state  \n",
       "0        East South Central  Same house  2020     Tennessee  \n",
       "1        East South Central  Same house  2020     Tennessee  \n",
       "2        East South Central  Same house  2020     Tennessee  \n",
       "3        East South Central  Same house  2020     Tennessee  \n",
       "4        East South Central  Same house  2020     Tennessee  \n",
       "...                     ...         ...   ...           ...  \n",
       "4360     West North Central  Same house  2020  North Dakota  \n",
       "4361     West North Central  Same house  2020  North Dakota  \n",
       "4362     West North Central  Same house  2020  North Dakota  \n",
       "4363     West North Central  Same house  2020  North Dakota  \n",
       "4364     West North Central  Same house  2020  North Dakota  \n",
       "\n",
       "[4365 rows x 19 columns]"
      ]
     },
     "execution_count": 21,
     "metadata": {},
     "output_type": "execute_result"
    }
   ],
   "source": [
    "data_df = pd.read_excel('Wages 2020Census cleaned.xlsx') \n",
    "data_df"
   ]
  },
  {
   "cell_type": "markdown",
   "id": "dc446494-b3b8-460f-9c09-99d5820b7682",
   "metadata": {},
   "source": [
    "## we calculate the mean"
   ]
  },
  {
   "cell_type": "code",
   "execution_count": 28,
   "id": "5837e8b9-de52-4406-acf9-de094aca56df",
   "metadata": {},
   "outputs": [
    {
     "data": {
      "text/plain": [
       "np.float64(58704.16494845361)"
      ]
     },
     "execution_count": 28,
     "metadata": {},
     "output_type": "execute_result"
    }
   ],
   "source": [
    "mean_income = data_df['Income-wages'].mean()  \n",
    "mean_income"
   ]
  },
  {
   "cell_type": "markdown",
   "id": "07ca034f-dd4e-478e-9fdc-9f852f1e0a4a",
   "metadata": {},
   "source": [
    "## we calculate the median"
   ]
  },
  {
   "cell_type": "code",
   "execution_count": 30,
   "id": "6466c480-fa45-43ec-8eaf-b0b70ae57e38",
   "metadata": {},
   "outputs": [
    {
     "data": {
      "text/plain": [
       "np.float64(41000.0)"
      ]
     },
     "execution_count": 30,
     "metadata": {},
     "output_type": "execute_result"
    }
   ],
   "source": [
    "median_income = data_df['Income-wages'].median()\n",
    "median_income "
   ]
  },
  {
   "cell_type": "markdown",
   "id": "25924ac1-8fc3-40ae-b557-b50726a0eb26",
   "metadata": {},
   "source": []
  },
  {
   "cell_type": "markdown",
   "id": "a8077a7e-e5ba-4006-b00d-db24ccf3ebcd",
   "metadata": {},
   "source": [
    "## b) Variability \n",
    "## It essentially describes how much the data points vary or deviate from the central tendency.\n",
    "## To assess variability, we can look at the standard deviation and range of the income data.\n"
   ]
  },
  {
   "cell_type": "code",
   "execution_count": 31,
   "id": "be574e19-ab57-4cf9-a9e7-65b1d00d56ab",
   "metadata": {},
   "outputs": [
    {
     "data": {
      "text/plain": [
       "(np.float64(68338.0614351565), (np.int64(30), np.int64(661000)))"
      ]
     },
     "execution_count": 31,
     "metadata": {},
     "output_type": "execute_result"
    }
   ],
   "source": [
    "std_dev = data_df['Income-wages'].std()  \n",
    "income_range = (data_df['Income-wages'].min(), data_df['Income-wages'].max())  \n",
    "\n",
    "std_dev, income_range  "
   ]
  },
  {
   "cell_type": "markdown",
   "id": "1246661c-8f09-4a01-8dc3-3f32c6e7f62f",
   "metadata": {},
   "source": [
    "## (c) Standard Deviation and IQR with No Variability\n",
    "## If there is no variability, all incomes would be the same, leading to a standard deviation of 0 and an IQR of 0\n"
   ]
  },
  {
   "cell_type": "code",
   "execution_count": 33,
   "id": "de6ad9d8-f0e1-47a9-b6d1-7b5309b0325d",
   "metadata": {},
   "outputs": [
    {
     "name": "stdout",
     "output_type": "stream",
     "text": [
      "Standard deviation: 0.0\n",
      "Interquartile Range (IQR): 0.0\n"
     ]
    }
   ],
   "source": [
    "# Creating a dataset with no variability\n",
    "no_variability_data = np.array([10, 10, 10, 10, 10])\n",
    "\n",
    "# Calculating standard deviation\n",
    "std_dev = np.std(no_variability_data)\n",
    "\n",
    "# Calculating  IQR\n",
    "q1 = np.percentile(no_variability_data, 25)\n",
    "q3 = np.percentile(no_variability_data, 75)\n",
    "iqr = q3 - q1\n",
    "\n",
    "print(\"Standard deviation:\", std_dev)\n",
    "print(\"Interquartile Range (IQR):\", iqr)"
   ]
  },
  {
   "cell_type": "markdown",
   "id": "25869489-575a-460a-8e8a-d38c41e6e27c",
   "metadata": {},
   "source": [
    "## (d) Mean, Median, Q1, Q3 with No Variability\n",
    "## If there is no variability, all values would equal the mean (or median), and Q1 and Q3 would also equal this value.\n",
    "## As you can see below, all the measures are the same. This is because every data point is identical, leading to no variation in the dataset."
   ]
  },
  {
   "cell_type": "code",
   "execution_count": 35,
   "id": "e08b0d18-73d1-4d40-a698-a6547d57556a",
   "metadata": {},
   "outputs": [
    {
     "name": "stdout",
     "output_type": "stream",
     "text": [
      "Mean Income: 50000.0\n",
      "Median Income: 50000.0\n",
      "Q1 Income: 50000.0\n",
      "Q3 Income: 50000.0\n",
      "Minimum Income: 50000\n",
      "Maximum Income: 50000\n"
     ]
    }
   ],
   "source": [
    "# Creating a dataset with no variability\n",
    "no_variability_data = np.array([50000, 50000, 50000, 50000, 50000])\n",
    "\n",
    "# Calculating the desired statistics\n",
    "mean_income = np.mean(no_variability_data)\n",
    "median_income = np.median(no_variability_data)\n",
    "q1_income = np.percentile(no_variability_data, 25)\n",
    "q3_income = np.percentile(no_variability_data, 75)\n",
    "min_income = np.min(no_variability_data)\n",
    "max_income = np.max(no_variability_data)\n",
    "\n",
    "print(\"Mean Income:\", mean_income)\n",
    "print(\"Median Income:\", median_income)\n",
    "print(\"Q1 Income:\", q1_income)\n",
    "print(\"Q3 Income:\", q3_income)\n",
    "print(\"Minimum Income:\", min_income)\n",
    "print(\"Maximum Income:\", max_income)\n"
   ]
  },
  {
   "cell_type": "code",
   "execution_count": null,
   "id": "b0c775ef-c1a7-471b-83f3-2023167a059c",
   "metadata": {},
   "outputs": [],
   "source": []
  },
  {
   "cell_type": "markdown",
   "id": "7640c46c-4ca3-48ca-8811-f31e87528d0a",
   "metadata": {},
   "source": [
    "## (e) Possible Causes of Variability\n",
    " ## Variability in income can arise from various factors such as Income wages, region, and job type.\n",
    " ## here we Create a boxplot to visualize income wages across different regions."
   ]
  },
  {
   "cell_type": "code",
   "execution_count": 38,
   "id": "00b12905-9716-43c4-98d6-45a9c9823368",
   "metadata": {},
   "outputs": [
    {
     "data": {
      "image/png": "[encoded data removed]",
      "text/plain": [
       "<Figure size 640x480 with 1 Axes>"
      ]
     },
     "metadata": {},
     "output_type": "display_data"
    }
   ],
   "source": [
    "sns.boxplot(x='Region_recode', y='Income-wages', data=data_df)  \n",
    "plt.title('A BOX PLOT SHOWING REGION_RECODE AND INCOME-WAGES')  \n",
    "plt.show()  "
   ]
  },
  {
   "cell_type": "markdown",
   "id": "b562d108-155d-4e1f-bdda-29f653fbee47",
   "metadata": {},
   "source": [
    "## Question 2:"
   ]
  },
  {
   "cell_type": "markdown",
   "id": "453181fa-1298-4e91-a282-c96675d733a3",
   "metadata": {},
   "source": [
    "## Student Performance Dataset\n",
    "## (a) Highest Total Study Hours by Major and Gender\n",
    "\n",
    "## here i therefore Group by major and gender, summing study hours."
   ]
  },
  {
   "cell_type": "markdown",
   "id": "51bb6f2d-ab6f-42c2-9c3d-24cc9af92d8a",
   "metadata": {},
   "source": [
    "## importing the student_performance_data"
   ]
  },
  {
   "cell_type": "code",
   "execution_count": 39,
   "id": "11b26efe-b76c-44ee-a6c5-a51d26b85293",
   "metadata": {},
   "outputs": [
    {
     "data": {
      "text/html": [
       "<div>\n",
       "<style scoped>\n",
       "    .dataframe tbody tr th:only-of-type {\n",
       "        vertical-align: middle;\n",
       "    }\n",
       "\n",
       "    .dataframe tbody tr th {\n",
       "        vertical-align: top;\n",
       "    }\n",
       "\n",
       "    .dataframe thead th {\n",
       "        text-align: right;\n",
       "    }\n",
       "</style>\n",
       "<table border=\"1\" class=\"dataframe\">\n",
       "  <thead>\n",
       "    <tr style=\"text-align: right;\">\n",
       "      <th></th>\n",
       "      <th>StudentID</th>\n",
       "      <th>Gender</th>\n",
       "      <th>Age</th>\n",
       "      <th>StudyHoursPerWeek</th>\n",
       "      <th>AttendanceRate</th>\n",
       "      <th>GPA</th>\n",
       "      <th>Major</th>\n",
       "      <th>PartTimeJob</th>\n",
       "      <th>ExtraCurricularActivities</th>\n",
       "    </tr>\n",
       "  </thead>\n",
       "  <tbody>\n",
       "    <tr>\n",
       "      <th>0</th>\n",
       "      <td>1</td>\n",
       "      <td>Male</td>\n",
       "      <td>24</td>\n",
       "      <td>37</td>\n",
       "      <td>90.75</td>\n",
       "      <td>3.47</td>\n",
       "      <td>Arts</td>\n",
       "      <td>Yes</td>\n",
       "      <td>No</td>\n",
       "    </tr>\n",
       "    <tr>\n",
       "      <th>1</th>\n",
       "      <td>2</td>\n",
       "      <td>Female</td>\n",
       "      <td>22</td>\n",
       "      <td>37</td>\n",
       "      <td>74.90</td>\n",
       "      <td>2.32</td>\n",
       "      <td>Education</td>\n",
       "      <td>No</td>\n",
       "      <td>No</td>\n",
       "    </tr>\n",
       "    <tr>\n",
       "      <th>2</th>\n",
       "      <td>3</td>\n",
       "      <td>Male</td>\n",
       "      <td>22</td>\n",
       "      <td>10</td>\n",
       "      <td>53.36</td>\n",
       "      <td>2.38</td>\n",
       "      <td>Business</td>\n",
       "      <td>No</td>\n",
       "      <td>No</td>\n",
       "    </tr>\n",
       "    <tr>\n",
       "      <th>3</th>\n",
       "      <td>4</td>\n",
       "      <td>Male</td>\n",
       "      <td>24</td>\n",
       "      <td>10</td>\n",
       "      <td>70.26</td>\n",
       "      <td>3.46</td>\n",
       "      <td>Science</td>\n",
       "      <td>Yes</td>\n",
       "      <td>No</td>\n",
       "    </tr>\n",
       "    <tr>\n",
       "      <th>4</th>\n",
       "      <td>5</td>\n",
       "      <td>Male</td>\n",
       "      <td>18</td>\n",
       "      <td>19</td>\n",
       "      <td>74.87</td>\n",
       "      <td>2.31</td>\n",
       "      <td>Education</td>\n",
       "      <td>Yes</td>\n",
       "      <td>No</td>\n",
       "    </tr>\n",
       "    <tr>\n",
       "      <th>...</th>\n",
       "      <td>...</td>\n",
       "      <td>...</td>\n",
       "      <td>...</td>\n",
       "      <td>...</td>\n",
       "      <td>...</td>\n",
       "      <td>...</td>\n",
       "      <td>...</td>\n",
       "      <td>...</td>\n",
       "      <td>...</td>\n",
       "    </tr>\n",
       "    <tr>\n",
       "      <th>495</th>\n",
       "      <td>496</td>\n",
       "      <td>Male</td>\n",
       "      <td>22</td>\n",
       "      <td>37</td>\n",
       "      <td>76.61</td>\n",
       "      <td>2.97</td>\n",
       "      <td>Science</td>\n",
       "      <td>No</td>\n",
       "      <td>No</td>\n",
       "    </tr>\n",
       "    <tr>\n",
       "      <th>496</th>\n",
       "      <td>497</td>\n",
       "      <td>Male</td>\n",
       "      <td>23</td>\n",
       "      <td>11</td>\n",
       "      <td>56.29</td>\n",
       "      <td>3.20</td>\n",
       "      <td>Science</td>\n",
       "      <td>No</td>\n",
       "      <td>No</td>\n",
       "    </tr>\n",
       "    <tr>\n",
       "      <th>497</th>\n",
       "      <td>498</td>\n",
       "      <td>Female</td>\n",
       "      <td>20</td>\n",
       "      <td>6</td>\n",
       "      <td>56.64</td>\n",
       "      <td>3.20</td>\n",
       "      <td>Science</td>\n",
       "      <td>No</td>\n",
       "      <td>Yes</td>\n",
       "    </tr>\n",
       "    <tr>\n",
       "      <th>498</th>\n",
       "      <td>499</td>\n",
       "      <td>Male</td>\n",
       "      <td>22</td>\n",
       "      <td>18</td>\n",
       "      <td>57.18</td>\n",
       "      <td>2.05</td>\n",
       "      <td>Business</td>\n",
       "      <td>No</td>\n",
       "      <td>Yes</td>\n",
       "    </tr>\n",
       "    <tr>\n",
       "      <th>499</th>\n",
       "      <td>500</td>\n",
       "      <td>Female</td>\n",
       "      <td>24</td>\n",
       "      <td>21</td>\n",
       "      <td>96.99</td>\n",
       "      <td>2.64</td>\n",
       "      <td>Engineering</td>\n",
       "      <td>No</td>\n",
       "      <td>No</td>\n",
       "    </tr>\n",
       "  </tbody>\n",
       "</table>\n",
       "<p>500 rows × 9 columns</p>\n",
       "</div>"
      ],
      "text/plain": [
       "     StudentID  Gender  Age  StudyHoursPerWeek  AttendanceRate   GPA  \\\n",
       "0            1    Male   24                 37           90.75  3.47   \n",
       "1            2  Female   22                 37           74.90  2.32   \n",
       "2            3    Male   22                 10           53.36  2.38   \n",
       "3            4    Male   24                 10           70.26  3.46   \n",
       "4            5    Male   18                 19           74.87  2.31   \n",
       "..         ...     ...  ...                ...             ...   ...   \n",
       "495        496    Male   22                 37           76.61  2.97   \n",
       "496        497    Male   23                 11           56.29  3.20   \n",
       "497        498  Female   20                  6           56.64  3.20   \n",
       "498        499    Male   22                 18           57.18  2.05   \n",
       "499        500  Female   24                 21           96.99  2.64   \n",
       "\n",
       "           Major PartTimeJob ExtraCurricularActivities  \n",
       "0           Arts         Yes                        No  \n",
       "1      Education          No                        No  \n",
       "2       Business          No                        No  \n",
       "3        Science         Yes                        No  \n",
       "4      Education         Yes                        No  \n",
       "..           ...         ...                       ...  \n",
       "495      Science          No                        No  \n",
       "496      Science          No                        No  \n",
       "497      Science          No                       Yes  \n",
       "498     Business          No                       Yes  \n",
       "499  Engineering          No                        No  \n",
       "\n",
       "[500 rows x 9 columns]"
      ]
     },
     "execution_count": 39,
     "metadata": {},
     "output_type": "execute_result"
    }
   ],
   "source": [
    "student_info = pd.read_csv('student_performance_data.csv')\n",
    "student_info"
   ]
  },
  {
   "cell_type": "code",
   "execution_count": 44,
   "id": "e2a60394-1d27-4287-9f64-146d7a0abb33",
   "metadata": {},
   "outputs": [
    {
     "data": {
      "text/plain": [
       "('Female', np.float64(71.86))"
      ]
     },
     "execution_count": 44,
     "metadata": {},
     "output_type": "execute_result"
    }
   ],
   "source": [
    "highest_study_hours = student_info.groupby(['Gender', 'AttendanceRate'])['StudyHoursPerWeek'].sum().idxmax()  \n",
    "highest_study_hours"
   ]
  },
  {
   "cell_type": "code",
   "execution_count": null,
   "id": "b4d2127a-1f2c-42f8-9a92-21120468bd91",
   "metadata": {},
   "outputs": [],
   "source": []
  },
  {
   "cell_type": "code",
   "execution_count": null,
   "id": "0c7a2486-6ee1-4029-832a-9f090dc00b90",
   "metadata": {},
   "outputs": [],
   "source": [
    "\n",
    "avg_attendance = data.groupby('gender')['attendance_rate'].mean().idxmax()  \n",
    "avg_attendance  "
   ]
  },
  {
   "cell_type": "markdown",
   "id": "310a7042-361f-410b-83b0-6d97f9014b49",
   "metadata": {},
   "source": [
    "## (b) Gender with Highest Average AttendanceRate\n",
    "## Group by gender and calculate the average attendance."
   ]
  },
  {
   "cell_type": "code",
   "execution_count": 45,
   "id": "ec0f1d61-8c91-46e9-977b-b340653c8c6d",
   "metadata": {},
   "outputs": [
    {
     "data": {
      "text/plain": [
       "'Female'"
      ]
     },
     "execution_count": 45,
     "metadata": {},
     "output_type": "execute_result"
    }
   ],
   "source": [
    "avg_attendance = student_info.groupby('Gender')['AttendanceRate'].mean().idxmax()  \n",
    "avg_attendance  "
   ]
  },
  {
   "cell_type": "code",
   "execution_count": null,
   "id": "388d4533-0e04-4953-9057-5553c85b4ae5",
   "metadata": {},
   "outputs": [],
   "source": [
    "\n",
    "part_time_jobs = data['part_time_job'].value_counts(normalize=True) * 100  \n",
    "part_time_jobs  "
   ]
  },
  {
   "cell_type": "markdown",
   "id": "2e6c990c-f129-4608-9140-ce5929ec02db",
   "metadata": {},
   "source": [
    "## c) Percentage of Students with/without Part-Time Jobs\n",
    "## Counting the number of students with and without part-time jobs."
   ]
  },
  {
   "cell_type": "code",
   "execution_count": 47,
   "id": "6f2abb16-2f9d-4be6-8c0b-40f865bac3f1",
   "metadata": {},
   "outputs": [
    {
     "data": {
      "text/plain": [
       "PartTimeJob\n",
       "Yes    53.6\n",
       "No     46.4\n",
       "Name: proportion, dtype: float64"
      ]
     },
     "execution_count": 47,
     "metadata": {},
     "output_type": "execute_result"
    }
   ],
   "source": [
    "part_time_jobs = student_info['PartTimeJob'].value_counts(normalize=True) * 100  \n",
    "part_time_jobs"
   ]
  },
  {
   "cell_type": "code",
   "execution_count": null,
   "id": "6a3e6475-d5ff-452f-ab7f-45e5cae9d8ee",
   "metadata": {},
   "outputs": [],
   "source": []
  },
  {
   "cell_type": "markdown",
   "id": "f9931c11-e6bb-4095-9ca3-804a6fa4051e",
   "metadata": {},
   "source": [
    "## (d) Mean GPA and Variance of Age by Gender\n",
    "## Grouping by gender and calculate mean GPA and variance of age."
   ]
  },
  {
   "cell_type": "code",
   "execution_count": 49,
   "id": "b7b662f0-659e-4dd1-b7c4-b886cb85f889",
   "metadata": {},
   "outputs": [
    {
     "data": {
      "text/html": [
       "<div>\n",
       "<style scoped>\n",
       "    .dataframe tbody tr th:only-of-type {\n",
       "        vertical-align: middle;\n",
       "    }\n",
       "\n",
       "    .dataframe tbody tr th {\n",
       "        vertical-align: top;\n",
       "    }\n",
       "\n",
       "    .dataframe thead th {\n",
       "        text-align: right;\n",
       "    }\n",
       "</style>\n",
       "<table border=\"1\" class=\"dataframe\">\n",
       "  <thead>\n",
       "    <tr style=\"text-align: right;\">\n",
       "      <th></th>\n",
       "      <th>GPA</th>\n",
       "      <th>Age</th>\n",
       "    </tr>\n",
       "    <tr>\n",
       "      <th>Gender</th>\n",
       "      <th></th>\n",
       "      <th></th>\n",
       "    </tr>\n",
       "  </thead>\n",
       "  <tbody>\n",
       "    <tr>\n",
       "      <th>Female</th>\n",
       "      <td>2.995352</td>\n",
       "      <td>4.005637</td>\n",
       "    </tr>\n",
       "    <tr>\n",
       "      <th>Male</th>\n",
       "      <td>2.974467</td>\n",
       "      <td>3.960130</td>\n",
       "    </tr>\n",
       "  </tbody>\n",
       "</table>\n",
       "</div>"
      ],
      "text/plain": [
       "             GPA       Age\n",
       "Gender                    \n",
       "Female  2.995352  4.005637\n",
       "Male    2.974467  3.960130"
      ]
     },
     "execution_count": 49,
     "metadata": {},
     "output_type": "execute_result"
    }
   ],
   "source": [
    "gpa_variance = student_info.groupby('Gender').agg({'GPA': 'mean', 'Age': 'var'})  \n",
    "gpa_variance  "
   ]
  },
  {
   "cell_type": "code",
   "execution_count": null,
   "id": "a6e0f026-218b-4b36-a846-ce75af89020c",
   "metadata": {},
   "outputs": [],
   "source": []
  },
  {
   "cell_type": "markdown",
   "id": "1d7b742e-25ac-486f-9b86-62d161e31027",
   "metadata": {},
   "source": [
    "## (e) Visualization of Relationship Between Two Variables\n",
    "\n",
    "## Here we use two variables to create a scatter plot  showing relationship between study hours per week\n",
    "## and the GPA"
   ]
  },
  {
   "cell_type": "code",
   "execution_count": 50,
   "id": "0d65643f-a83c-4c66-afcc-d169fb5c0eac",
   "metadata": {},
   "outputs": [
    {
     "data": {
      "image/png": "[encoded data removed]",
      "text/plain": [
       "<Figure size 640x480 with 1 Axes>"
      ]
     },
     "metadata": {},
     "output_type": "display_data"
    }
   ],
   "source": [
    "\n",
    "sns.scatterplot(x='StudyHoursPerWeek', y='GPA', hue='Gender', data=student_info)  \n",
    "plt.title('Relationship between Study Hours and GPA')  \n",
    "plt.show()  "
   ]
  },
  {
   "cell_type": "markdown",
   "id": "58b38ef3-e01c-438b-bd8e-6de9f4ccb021",
   "metadata": {},
   "source": [
    "## Question 3:"
   ]
  },
  {
   "cell_type": "markdown",
   "id": "1fecf352-4ecd-4554-92f7-53a3867ee448",
   "metadata": {},
   "source": [
    "## Linear Regression\n",
    "\n",
    " ## The following are Steps Involved in Fitting a Linear Regression Model in Python:\n",
    "\n",
    "## Import Necessary Libraries:\n",
    "\n",
    "## NumPy: For numerical operations and array manipulation.\n",
    "## Pandas: For data analysis and manipulation.\n",
    "## Matplotlib and Seaborn: For data visualization.\n",
    "## Prepare the Data:\n",
    "\n",
    "## Load the Data: Use Pandas to read the data from a CSV or other file format.\n",
    "## Clean the Data: Handle missing values, outliers, and inconsistencies.\n",
    "## Feature Engineering: Create new features if needed (e.g., polynomial features, interactions).\n",
    "## Split the Data: Divide the data into training and testing sets. The training set is used to train the model, while the testing set is used to evaluate its performance.1   \n",
    "1.\n",
    "## saturncloud.io\n",
    "## saturncloud.io\n",
    "## Create and Train the Model:\n",
    "\n",
    "## Instantiate the Model: Create a LinearRegression object from the scikit-learn library.\n",
    "## Fit the Model: Train the model on the training data using the fit() method. This involves finding the optimal coefficients (β's) that minimize the MSE.\n",
    "## Make Predictions:\n",
    "\n",
    "## Predict on the Test Set: Use the trained model to make predictions on the testing data using the predict() method.\n",
    "## Evaluate the Model:\n",
    "\n",
    "## Calculate Metrics: Evaluate the model's performance using metrics like Mean Squared Error (MSE), Mean Absolute Error (MAE), and R-squared.\n",
    "## Visualize Results: Use plots to visualize the model's predictions and compare them to the actual values."
   ]
  },
  {
   "cell_type": "code",
   "execution_count": null,
   "id": "12e5662e-0d33-49f3-b96b-73886601a6d9",
   "metadata": {},
   "outputs": [],
   "source": []
  },
  {
   "cell_type": "code",
   "execution_count": null,
   "id": "b6d055dc-510a-4767-b770-b1e61c52f039",
   "metadata": {},
   "outputs": [],
   "source": []
  },
  {
   "cell_type": "markdown",
   "id": "46f7a4eb-f5c7-476c-9a93-9a22fc65165d",
   "metadata": {},
   "source": [
    "## (b) Assumptions of Linear Regression\n",
    "## Linearity: The relationship between the independent and dependent variables is linear.\n",
    "## Independence: Observations are independent of each other.\n",
    "## Homoscedasticity: Constant variance of errors.\n",
    "## Normality: The residuals of the model are normally distributed."
   ]
  },
  {
   "cell_type": "code",
   "execution_count": 61,
   "id": "ad99d62e-1ad1-4bd1-a64d-edf59eb352d7",
   "metadata": {},
   "outputs": [
    {
     "data": {
      "text/html": [
       "<div>\n",
       "<style scoped>\n",
       "    .dataframe tbody tr th:only-of-type {\n",
       "        vertical-align: middle;\n",
       "    }\n",
       "\n",
       "    .dataframe tbody tr th {\n",
       "        vertical-align: top;\n",
       "    }\n",
       "\n",
       "    .dataframe thead th {\n",
       "        text-align: right;\n",
       "    }\n",
       "</style>\n",
       "<table border=\"1\" class=\"dataframe\">\n",
       "  <thead>\n",
       "    <tr style=\"text-align: right;\">\n",
       "      <th></th>\n",
       "      <th>Age</th>\n",
       "      <th>Sex</th>\n",
       "      <th>Marital_status</th>\n",
       "      <th>Number_of_children</th>\n",
       "      <th>Family_size</th>\n",
       "      <th>Education-degree_recode</th>\n",
       "      <th>Education-degree_recode 2</th>\n",
       "      <th>Education</th>\n",
       "      <th>Race_ethnicity-multi_recode</th>\n",
       "      <th>Immigrate-year</th>\n",
       "      <th>Birthplace_recode</th>\n",
       "      <th>Speaks_English</th>\n",
       "      <th>Employment_status</th>\n",
       "      <th>Income-wages</th>\n",
       "      <th>Region_recode</th>\n",
       "      <th>Region-division_recode</th>\n",
       "      <th>Moved</th>\n",
       "      <th>Year</th>\n",
       "      <th>state</th>\n",
       "    </tr>\n",
       "  </thead>\n",
       "  <tbody>\n",
       "    <tr>\n",
       "      <th>0</th>\n",
       "      <td>30</td>\n",
       "      <td>Male</td>\n",
       "      <td>Married, spouse present</td>\n",
       "      <td>2</td>\n",
       "      <td>4</td>\n",
       "      <td>Masterâ€™s or professional degree</td>\n",
       "      <td>Master or professional degree</td>\n",
       "      <td>Master or PhD or professional degree</td>\n",
       "      <td>Non-Hispanic White</td>\n",
       "      <td>0</td>\n",
       "      <td>U.S. state, territory, or outlying region</td>\n",
       "      <td>Yes, speaks only English</td>\n",
       "      <td>Employed</td>\n",
       "      <td>63000</td>\n",
       "      <td>South</td>\n",
       "      <td>East South Central</td>\n",
       "      <td>Same house</td>\n",
       "      <td>2020</td>\n",
       "      <td>Tennessee</td>\n",
       "    </tr>\n",
       "    <tr>\n",
       "      <th>1</th>\n",
       "      <td>28</td>\n",
       "      <td>Female</td>\n",
       "      <td>Married, spouse present</td>\n",
       "      <td>1 child present</td>\n",
       "      <td>3</td>\n",
       "      <td>Masterâ€™s or professional degree</td>\n",
       "      <td>Master or professional degree</td>\n",
       "      <td>Master or PhD or professional degree</td>\n",
       "      <td>Non-Hispanic White</td>\n",
       "      <td>0</td>\n",
       "      <td>U.S. state, territory, or outlying region</td>\n",
       "      <td>Yes, speaks only English</td>\n",
       "      <td>Employed</td>\n",
       "      <td>46000</td>\n",
       "      <td>South</td>\n",
       "      <td>East South Central</td>\n",
       "      <td>Same house</td>\n",
       "      <td>2020</td>\n",
       "      <td>Tennessee</td>\n",
       "    </tr>\n",
       "    <tr>\n",
       "      <th>2</th>\n",
       "      <td>34</td>\n",
       "      <td>Male</td>\n",
       "      <td>Married, spouse present</td>\n",
       "      <td>1 child present</td>\n",
       "      <td>3</td>\n",
       "      <td>Bachelorâ€™s degree</td>\n",
       "      <td>Bachelor degree</td>\n",
       "      <td>Associate or Bachelor degree</td>\n",
       "      <td>Non-Hispanic White</td>\n",
       "      <td>0</td>\n",
       "      <td>U.S. state, territory, or outlying region</td>\n",
       "      <td>Yes, speaks only English</td>\n",
       "      <td>Employed</td>\n",
       "      <td>45000</td>\n",
       "      <td>South</td>\n",
       "      <td>East South Central</td>\n",
       "      <td>Same house</td>\n",
       "      <td>2020</td>\n",
       "      <td>Tennessee</td>\n",
       "    </tr>\n",
       "    <tr>\n",
       "      <th>3</th>\n",
       "      <td>58</td>\n",
       "      <td>Female</td>\n",
       "      <td>Married, spouse absent</td>\n",
       "      <td>1 child present</td>\n",
       "      <td>2</td>\n",
       "      <td>1 or more years of college, no degree</td>\n",
       "      <td>1 or more years of college, no degree</td>\n",
       "      <td>1 or more years of college, no degree</td>\n",
       "      <td>Non-Hispanic White</td>\n",
       "      <td>0</td>\n",
       "      <td>U.S. state, territory, or outlying region</td>\n",
       "      <td>Yes, speaks only English</td>\n",
       "      <td>Employed</td>\n",
       "      <td>55000</td>\n",
       "      <td>South</td>\n",
       "      <td>East South Central</td>\n",
       "      <td>Same house</td>\n",
       "      <td>2020</td>\n",
       "      <td>Tennessee</td>\n",
       "    </tr>\n",
       "    <tr>\n",
       "      <th>4</th>\n",
       "      <td>39</td>\n",
       "      <td>Male</td>\n",
       "      <td>Never married/single</td>\n",
       "      <td>0 children present</td>\n",
       "      <td>1</td>\n",
       "      <td>Bachelorâ€™s degree</td>\n",
       "      <td>Bachelor degree</td>\n",
       "      <td>Associate or Bachelor degree</td>\n",
       "      <td>Non-Hispanic White</td>\n",
       "      <td>0</td>\n",
       "      <td>U.S. state, territory, or outlying region</td>\n",
       "      <td>Yes, speaks only English</td>\n",
       "      <td>Employed</td>\n",
       "      <td>12000</td>\n",
       "      <td>South</td>\n",
       "      <td>East South Central</td>\n",
       "      <td>Same house</td>\n",
       "      <td>2020</td>\n",
       "      <td>Tennessee</td>\n",
       "    </tr>\n",
       "    <tr>\n",
       "      <th>...</th>\n",
       "      <td>...</td>\n",
       "      <td>...</td>\n",
       "      <td>...</td>\n",
       "      <td>...</td>\n",
       "      <td>...</td>\n",
       "      <td>...</td>\n",
       "      <td>...</td>\n",
       "      <td>...</td>\n",
       "      <td>...</td>\n",
       "      <td>...</td>\n",
       "      <td>...</td>\n",
       "      <td>...</td>\n",
       "      <td>...</td>\n",
       "      <td>...</td>\n",
       "      <td>...</td>\n",
       "      <td>...</td>\n",
       "      <td>...</td>\n",
       "      <td>...</td>\n",
       "      <td>...</td>\n",
       "    </tr>\n",
       "    <tr>\n",
       "      <th>4360</th>\n",
       "      <td>67</td>\n",
       "      <td>Male</td>\n",
       "      <td>Married, spouse present</td>\n",
       "      <td>0 children present</td>\n",
       "      <td>2</td>\n",
       "      <td>Bachelorâ€™s degree</td>\n",
       "      <td>Bachelor degree</td>\n",
       "      <td>Associate or Bachelor degree</td>\n",
       "      <td>Non-Hispanic White</td>\n",
       "      <td>0</td>\n",
       "      <td>U.S. state, territory, or outlying region</td>\n",
       "      <td>Yes, speaks only English</td>\n",
       "      <td>Employed</td>\n",
       "      <td>40000</td>\n",
       "      <td>Midwest</td>\n",
       "      <td>West North Central</td>\n",
       "      <td>Same house</td>\n",
       "      <td>2020</td>\n",
       "      <td>North Dakota</td>\n",
       "    </tr>\n",
       "    <tr>\n",
       "      <th>4361</th>\n",
       "      <td>48</td>\n",
       "      <td>Male</td>\n",
       "      <td>Married, spouse present</td>\n",
       "      <td>4</td>\n",
       "      <td>6</td>\n",
       "      <td>Associateâ€™s degree</td>\n",
       "      <td>Associate degree</td>\n",
       "      <td>Associate or Bachelor degree</td>\n",
       "      <td>Non-Hispanic White</td>\n",
       "      <td>0</td>\n",
       "      <td>U.S. state, territory, or outlying region</td>\n",
       "      <td>Yes, speaks only English</td>\n",
       "      <td>Employed</td>\n",
       "      <td>65000</td>\n",
       "      <td>Midwest</td>\n",
       "      <td>West North Central</td>\n",
       "      <td>Same house</td>\n",
       "      <td>2020</td>\n",
       "      <td>North Dakota</td>\n",
       "    </tr>\n",
       "    <tr>\n",
       "      <th>4362</th>\n",
       "      <td>33</td>\n",
       "      <td>Male</td>\n",
       "      <td>Married, spouse absent</td>\n",
       "      <td>0 children present</td>\n",
       "      <td>1</td>\n",
       "      <td>Associateâ€™s degree</td>\n",
       "      <td>Associate degree</td>\n",
       "      <td>Associate or Bachelor degree</td>\n",
       "      <td>Non-Hispanic Black</td>\n",
       "      <td>2017</td>\n",
       "      <td>Africa</td>\n",
       "      <td>Yes, speaks very well</td>\n",
       "      <td>Employed</td>\n",
       "      <td>45000</td>\n",
       "      <td>Midwest</td>\n",
       "      <td>West North Central</td>\n",
       "      <td>Same house</td>\n",
       "      <td>2020</td>\n",
       "      <td>North Dakota</td>\n",
       "    </tr>\n",
       "    <tr>\n",
       "      <th>4363</th>\n",
       "      <td>22</td>\n",
       "      <td>Female</td>\n",
       "      <td>Never married/single</td>\n",
       "      <td>0 children present</td>\n",
       "      <td>2</td>\n",
       "      <td>1 or more years of college, no degree</td>\n",
       "      <td>1 or more years of college, no degree</td>\n",
       "      <td>1 or more years of college, no degree</td>\n",
       "      <td>Non-Hispanic White</td>\n",
       "      <td>0</td>\n",
       "      <td>U.S. state, territory, or outlying region</td>\n",
       "      <td>Yes, speaks only English</td>\n",
       "      <td>Employed</td>\n",
       "      <td>500</td>\n",
       "      <td>Midwest</td>\n",
       "      <td>West North Central</td>\n",
       "      <td>Same house</td>\n",
       "      <td>2020</td>\n",
       "      <td>North Dakota</td>\n",
       "    </tr>\n",
       "    <tr>\n",
       "      <th>4364</th>\n",
       "      <td>49</td>\n",
       "      <td>Female</td>\n",
       "      <td>Married, spouse present</td>\n",
       "      <td>2</td>\n",
       "      <td>4</td>\n",
       "      <td>Masterâ€™s or professional degree</td>\n",
       "      <td>Master or professional degree</td>\n",
       "      <td>Master or PhD or professional degree</td>\n",
       "      <td>Non-Hispanic White</td>\n",
       "      <td>0</td>\n",
       "      <td>U.S. state, territory, or outlying region</td>\n",
       "      <td>Yes, speaks only English</td>\n",
       "      <td>Employed</td>\n",
       "      <td>498000</td>\n",
       "      <td>Midwest</td>\n",
       "      <td>West North Central</td>\n",
       "      <td>Same house</td>\n",
       "      <td>2020</td>\n",
       "      <td>North Dakota</td>\n",
       "    </tr>\n",
       "  </tbody>\n",
       "</table>\n",
       "<p>4365 rows × 19 columns</p>\n",
       "</div>"
      ],
      "text/plain": [
       "      Age     Sex           Marital_status  Number_of_children  Family_size  \\\n",
       "0      30    Male  Married, spouse present                   2            4   \n",
       "1      28  Female  Married, spouse present     1 child present            3   \n",
       "2      34    Male  Married, spouse present     1 child present            3   \n",
       "3      58  Female   Married, spouse absent     1 child present            2   \n",
       "4      39    Male     Never married/single  0 children present            1   \n",
       "...   ...     ...                      ...                 ...          ...   \n",
       "4360   67    Male  Married, spouse present  0 children present            2   \n",
       "4361   48    Male  Married, spouse present                   4            6   \n",
       "4362   33    Male   Married, spouse absent  0 children present            1   \n",
       "4363   22  Female     Never married/single  0 children present            2   \n",
       "4364   49  Female  Married, spouse present                   2            4   \n",
       "\n",
       "                    Education-degree_recode  \\\n",
       "0         Masterâ€™s or professional degree   \n",
       "1         Masterâ€™s or professional degree   \n",
       "2                       Bachelorâ€™s degree   \n",
       "3     1 or more years of college, no degree   \n",
       "4                       Bachelorâ€™s degree   \n",
       "...                                     ...   \n",
       "4360                    Bachelorâ€™s degree   \n",
       "4361                   Associateâ€™s degree   \n",
       "4362                   Associateâ€™s degree   \n",
       "4363  1 or more years of college, no degree   \n",
       "4364      Masterâ€™s or professional degree   \n",
       "\n",
       "                  Education-degree_recode 2  \\\n",
       "0             Master or professional degree   \n",
       "1             Master or professional degree   \n",
       "2                           Bachelor degree   \n",
       "3     1 or more years of college, no degree   \n",
       "4                           Bachelor degree   \n",
       "...                                     ...   \n",
       "4360                        Bachelor degree   \n",
       "4361                       Associate degree   \n",
       "4362                       Associate degree   \n",
       "4363  1 or more years of college, no degree   \n",
       "4364          Master or professional degree   \n",
       "\n",
       "                                  Education Race_ethnicity-multi_recode  \\\n",
       "0      Master or PhD or professional degree          Non-Hispanic White   \n",
       "1      Master or PhD or professional degree          Non-Hispanic White   \n",
       "2              Associate or Bachelor degree          Non-Hispanic White   \n",
       "3     1 or more years of college, no degree          Non-Hispanic White   \n",
       "4              Associate or Bachelor degree          Non-Hispanic White   \n",
       "...                                     ...                         ...   \n",
       "4360           Associate or Bachelor degree          Non-Hispanic White   \n",
       "4361           Associate or Bachelor degree          Non-Hispanic White   \n",
       "4362           Associate or Bachelor degree          Non-Hispanic Black   \n",
       "4363  1 or more years of college, no degree          Non-Hispanic White   \n",
       "4364   Master or PhD or professional degree          Non-Hispanic White   \n",
       "\n",
       "      Immigrate-year                          Birthplace_recode  \\\n",
       "0                  0  U.S. state, territory, or outlying region   \n",
       "1                  0  U.S. state, territory, or outlying region   \n",
       "2                  0  U.S. state, territory, or outlying region   \n",
       "3                  0  U.S. state, territory, or outlying region   \n",
       "4                  0  U.S. state, territory, or outlying region   \n",
       "...              ...                                        ...   \n",
       "4360               0  U.S. state, territory, or outlying region   \n",
       "4361               0  U.S. state, territory, or outlying region   \n",
       "4362            2017                                     Africa   \n",
       "4363               0  U.S. state, territory, or outlying region   \n",
       "4364               0  U.S. state, territory, or outlying region   \n",
       "\n",
       "                Speaks_English Employment_status  Income-wages Region_recode  \\\n",
       "0     Yes, speaks only English          Employed         63000         South   \n",
       "1     Yes, speaks only English          Employed         46000         South   \n",
       "2     Yes, speaks only English          Employed         45000         South   \n",
       "3     Yes, speaks only English          Employed         55000         South   \n",
       "4     Yes, speaks only English          Employed         12000         South   \n",
       "...                        ...               ...           ...           ...   \n",
       "4360  Yes, speaks only English          Employed         40000       Midwest   \n",
       "4361  Yes, speaks only English          Employed         65000       Midwest   \n",
       "4362     Yes, speaks very well          Employed         45000       Midwest   \n",
       "4363  Yes, speaks only English          Employed           500       Midwest   \n",
       "4364  Yes, speaks only English          Employed        498000       Midwest   \n",
       "\n",
       "     Region-division_recode       Moved  Year         state  \n",
       "0        East South Central  Same house  2020     Tennessee  \n",
       "1        East South Central  Same house  2020     Tennessee  \n",
       "2        East South Central  Same house  2020     Tennessee  \n",
       "3        East South Central  Same house  2020     Tennessee  \n",
       "4        East South Central  Same house  2020     Tennessee  \n",
       "...                     ...         ...   ...           ...  \n",
       "4360     West North Central  Same house  2020  North Dakota  \n",
       "4361     West North Central  Same house  2020  North Dakota  \n",
       "4362     West North Central  Same house  2020  North Dakota  \n",
       "4363     West North Central  Same house  2020  North Dakota  \n",
       "4364     West North Central  Same house  2020  North Dakota  \n",
       "\n",
       "[4365 rows x 19 columns]"
      ]
     },
     "execution_count": 61,
     "metadata": {},
     "output_type": "execute_result"
    }
   ],
   "source": [
    "data_df = pd.read_excel('Wages 2020Census cleaned.xlsx') \n",
    "data_df"
   ]
  },
  {
   "cell_type": "markdown",
   "id": "efb44748-e551-4e50-8d7a-03c7a42b362e",
   "metadata": {},
   "source": [
    "## (c) Train a Simple Linear Regression Model\n",
    "## Define the target variable and features.\n",
    "## Train the model and extract coefficients."
   ]
  },
  {
   "cell_type": "code",
   "execution_count": 64,
   "id": "059907e2-af0c-41de-96b8-c6ab93accb31",
   "metadata": {},
   "outputs": [
    {
     "data": {
      "text/plain": [
       "'y = -1.4551915228366852e-11 + -4.5799583734539833e-14*x1 + 1.0000000000000002*x2'"
      ]
     },
     "execution_count": 64,
     "metadata": {},
     "output_type": "execute_result"
    }
   ],
   "source": [
    "X = data_df[['Age', 'Income-wages']]  # Replace with actual feature names  \n",
    "y = data_df['Income-wages']  # Replace with actual target variable name  \n",
    "\n",
    "X_train, X_test, y_train, y_test = train_test_split(X, y, test_size=0.2, random_state=42)  \n",
    "model = LinearRegression()  \n",
    "model.fit(X_train, y_train)  \n",
    "\n",
    "coefficients = model.coef_  \n",
    "intercept = model.intercept_  \n",
    "equation = f'y = {intercept} + {coefficients[0]}*x1 + {coefficients[1]}*x2'  \n",
    "equation  "
   ]
  },
  {
   "cell_type": "code",
   "execution_count": null,
   "id": "6ee3d409-f5aa-4af4-95d7-7af15408fb77",
   "metadata": {},
   "outputs": [],
   "source": []
  },
  {
   "cell_type": "markdown",
   "id": "4208f1ab-76b0-42cb-8ae5-f0873067c4eb",
   "metadata": {},
   "source": [
    "## (d) Compute the Mean Absolute Error (MSE)"
   ]
  },
  {
   "cell_type": "code",
   "execution_count": 65,
   "id": "1f980d10-5f1a-4e27-b7dc-9169cac065d3",
   "metadata": {},
   "outputs": [
    {
     "data": {
      "text/plain": [
       "2.3187825191048895e-22"
      ]
     },
     "execution_count": 65,
     "metadata": {},
     "output_type": "execute_result"
    }
   ],
   "source": [
    "\n",
    "y_pred = model.predict(X_test)  \n",
    "mse = mean_squared_error(y_test, y_pred)  \n",
    "mse  "
   ]
  },
  {
   "cell_type": "code",
   "execution_count": null,
   "id": "db567613-7582-4e85-b402-62f71a5de007",
   "metadata": {},
   "outputs": [],
   "source": []
  },
  {
   "cell_type": "code",
   "execution_count": null,
   "id": "80398a75-636b-43da-8288-a122820fcd42",
   "metadata": {},
   "outputs": [],
   "source": [
    "(e) Key Outputs from a Linear Regression Model\n",
    "Coefficients: Indicate the change in the target variable for a unit change in the predictor variables.\n",
    "Intercept: The expected mean value of the target variable when all predictors are zero.\n",
    "R-squared: Indicates the proportion of variance explained by the model."
   ]
  },
  {
   "cell_type": "code",
   "execution_count": null,
   "id": "42808318-851e-424d-829c-5ddf6fc13dad",
   "metadata": {},
   "outputs": [],
   "source": []
  },
  {
   "cell_type": "markdown",
   "id": "d25f9ca7-50c2-48c8-9870-88ac4b0b5de4",
   "metadata": {},
   "source": [
    "## (f) Plotting the Linear Regression Model"
   ]
  },
  {
   "cell_type": "code",
   "execution_count": 86,
   "id": "dee530c1-21ed-4d85-bf1f-9a298b777f6a",
   "metadata": {},
   "outputs": [
    {
     "data": {
      "image/png": "[encoded data removed]",
      "text/plain": [
       "<Figure size 640x480 with 1 Axes>"
      ]
     },
     "metadata": {},
     "output_type": "display_data"
    }
   ],
   "source": [
    "X_feature = X_test.iloc[:, 0]  \n",
    "\n",
    "plt.scatter(X_feature, y_test, color='blue', label='Actual Data')  \n",
    "plt.plot(X_feature, y_pred, color='red', linewidth=2, label='Predicted Line')  \n",
    "plt.xlabel('Age')    \n",
    "plt.ylabel('Family_size')  \n",
    "plt.title(' Visualisation of the Linear Regression Model')  \n",
    "plt.legend()  \n",
    "plt.show()  \n"
   ]
  },
  {
   "cell_type": "markdown",
   "id": "e147f473-9595-4b60-a915-8f22664b214a",
   "metadata": {},
   "source": [
    "## QUESTION 4"
   ]
  },
  {
   "cell_type": "code",
   "execution_count": null,
   "id": "9557da74-c40e-4cc4-b493-137cf729b7eb",
   "metadata": {},
   "outputs": [],
   "source": [
    "(a) Multiply a 5x3 Matrix by a 3x2 Matrix\n",
    "To perform matrix multiplication, we can use NumPy, which is a powerful library for numerical computations in Python.\n",
    "\n",
    "Code:\n",
    "\n",
    "python\n",
    "import numpy as np  \n",
    "\n",
    "# Create a 5x3 matrix  \n",
    "A = np.random.rand(5, 3)  # Random values  \n",
    "print(\"5x3 Matrix A:\\n\", A)  \n",
    "\n",
    "# Create a 3x2 matrix  \n",
    "B = np.random.rand(3, 2)  # Random values  \n",
    "print(\"3x2 Matrix B:\\n\", B)  \n",
    "\n",
    "# Multiply the matrices  \n",
    "result = np.dot(A, B)  \n",
    "print(\"Result of A * B:\\n\", result)  "
   ]
  },
  {
   "cell_type": "markdown",
   "id": "5b9039ed-d3cf-4a02-977c-84691bc6493e",
   "metadata": {},
   "source": [
    "## (a) Multiply a 5x3 Matrix by a 3x2 Matrix\n",
    "## We created a 5x3 matrix A and a 3x2 matrix B using np.random.rand to fill them with random values.\n",
    "## We created a 5x3 matrix A and a 3x2 matrix B using np.random.rand to fill them with random values.\n",
    "## We used np.dot to perform the matrix multiplication, which is valid since the number of columns in A (3) matches the number of rows in B (3).\n"
   ]
  },
  {
   "cell_type": "code",
   "execution_count": 87,
   "id": "c05d8c33-97b6-4266-b2ae-fbb2b8c3bf6d",
   "metadata": {},
   "outputs": [
    {
     "name": "stdout",
     "output_type": "stream",
     "text": [
      "5x3 Matrix A:\n",
      " [[0.59540719 0.79965352 0.68821089]\n",
      " [0.10589105 0.88589486 0.62673356]\n",
      " [0.85775347 0.2431081  0.30205732]\n",
      " [0.00566661 0.32046543 0.73022248]\n",
      " [0.65708971 0.23384442 0.88903922]]\n",
      "3x2 Matrix B:\n",
      " [[0.99322643 0.22766064]\n",
      " [0.69006043 0.24467313]\n",
      " [0.97691844 0.85866685]]\n",
      "Result of A * B:\n",
      " [[1.81550932 0.92214839]\n",
      " [1.32876235 0.77901722]\n",
      " [1.31478807 0.51412534]\n",
      " [0.94013654 0.70671718]\n",
      " [1.68252446 0.97019742]]\n"
     ]
    }
   ],
   "source": [
    "A = np.random.rand(5, 3)   \n",
    "print(\"5x3 Matrix A:\\n\", A)  \n",
    "\n",
    "# Creating a 3x2 matrix  \n",
    "B = np.random.rand(3, 2)   \n",
    "print(\"3x2 Matrix B:\\n\", B)  \n",
    "\n",
    "# Multiplying the matrices  \n",
    "result = np.dot(A, B)  \n",
    "print(\"Result of A * B:\\n\", result)  "
   ]
  },
  {
   "cell_type": "code",
   "execution_count": null,
   "id": "ca630ad1-3c2a-4eb2-a89c-8a2be193600f",
   "metadata": {},
   "outputs": [],
   "source": []
  },
  {
   "cell_type": "markdown",
   "id": "652c2273-cba1-4050-ab10-f18ec06f96f7",
   "metadata": {},
   "source": [
    "## (b) Create a 3x3 Identity Matrix\n",
    "## An identity matrix is a square matrix with ones on the diagonal and zeros elsewhere\n",
    "## We used np.eye(3) to create a 3x3 identity matrix, where the main diagonal elements are 1 and all other elements are 0.\n"
   ]
  },
  {
   "cell_type": "code",
   "execution_count": 88,
   "id": "f96f7597-15ad-4149-b732-b95e43d5d6f7",
   "metadata": {},
   "outputs": [
    {
     "name": "stdout",
     "output_type": "stream",
     "text": [
      "3x3 Identity Matrix:\n",
      " [[1. 0. 0.]\n",
      " [0. 1. 0.]\n",
      " [0. 0. 1.]]\n"
     ]
    }
   ],
   "source": [
    "identity_matrix = np.eye(3)  \n",
    "print(\"3x3 Identity Matrix:\\n\", identity_matrix) "
   ]
  },
  {
   "cell_type": "code",
   "execution_count": null,
   "id": "00aa2ef0-7f50-4f29-87a2-2f3a87ce4df5",
   "metadata": {},
   "outputs": [],
   "source": []
  },
  {
   "cell_type": "markdown",
   "id": "2d84b678-c5ce-4121-9fbf-11ce910de888",
   "metadata": {},
   "source": [
    "## (c) Create a Vector with Values Ranging from 10 to 49\n",
    "## We can create a vector (1D array) using NumPy's arange function.\n",
    "## np.arange(10, 50) generates an array with values starting from 10 up to (but not including) 50."
   ]
  },
  {
   "cell_type": "code",
   "execution_count": 89,
   "id": "5959b686-097e-48f5-a857-f1d3451e374f",
   "metadata": {},
   "outputs": [
    {
     "name": "stdout",
     "output_type": "stream",
     "text": [
      "Vector from 10 to 49:\n",
      " [10 11 12 13 14 15 16 17 18 19 20 21 22 23 24 25 26 27 28 29 30 31 32 33\n",
      " 34 35 36 37 38 39 40 41 42 43 44 45 46 47 48 49]\n"
     ]
    }
   ],
   "source": [
    "vector = np.arange(10, 50)    \n",
    "print(\"Vector from 10 to 49:\\n\", vector)  "
   ]
  },
  {
   "cell_type": "code",
   "execution_count": null,
   "id": "072fc169-f6ee-46fb-971d-2bf7b33de991",
   "metadata": {},
   "outputs": [],
   "source": []
  },
  {
   "cell_type": "markdown",
   "id": "03118218-07d0-4cfb-933c-48ee838df2b8",
   "metadata": {},
   "source": [
    "## (d) Create a Null Vector of Size 10\n",
    "## A null vector is an array filled with zeros.\n",
    "## np.zeros(10) creates a one-dimensional array of size 10 filled with zeros."
   ]
  },
  {
   "cell_type": "code",
   "execution_count": 90,
   "id": "bb4cc0a5-034a-44d9-ab14-4d2fd118a4f2",
   "metadata": {},
   "outputs": [
    {
     "name": "stdout",
     "output_type": "stream",
     "text": [
      "Null Vector of Size 10:\n",
      " [0. 0. 0. 0. 0. 0. 0. 0. 0. 0.]\n"
     ]
    }
   ],
   "source": [
    "null_vector = np.zeros(10)  \n",
    "print(\"Null Vector of Size 10:\\n\", null_vector)  "
   ]
  },
  {
   "cell_type": "code",
   "execution_count": null,
   "id": "f89b00e0-21b5-48e4-8f8e-b3511d49c49a",
   "metadata": {},
   "outputs": [],
   "source": []
  },
  {
   "cell_type": "markdown",
   "id": "b4a43aad-999b-424f-89cc-8213d4ff1b58",
   "metadata": {},
   "source": [
    "## (e) Create a 3x3x3 Array with Random Values\n",
    "## This involves creating a 3D array.\n",
    "## np.random.rand(3, 3, 3) generates a 3D array with random values between 0 and 1."
   ]
  },
  {
   "cell_type": "code",
   "execution_count": 91,
   "id": "1c07df2c-64b5-4f24-8478-05121d9586bb",
   "metadata": {},
   "outputs": [
    {
     "name": "stdout",
     "output_type": "stream",
     "text": [
      "3x3x3 Array with Random Values:\n",
      " [[[0.71937659 0.29800671 0.10551396]\n",
      "  [0.8946775  0.549294   0.29514203]\n",
      "  [0.01539446 0.50747125 0.17072316]]\n",
      "\n",
      " [[0.00202327 0.23596422 0.03080225]\n",
      "  [0.31357203 0.35648946 0.5138562 ]\n",
      "  [0.03030951 0.63517443 0.37710613]]\n",
      "\n",
      " [[0.78028547 0.77515922 0.45986235]\n",
      "  [0.48435629 0.5197052  0.74081255]\n",
      "  [0.8626584  0.57856248 0.60087059]]]\n"
     ]
    }
   ],
   "source": [
    "random_array = np.random.rand(3, 3, 3)  \n",
    "print(\"3x3x3 Array with Random Values:\\n\", random_array)  "
   ]
  },
  {
   "cell_type": "code",
   "execution_count": null,
   "id": "1ca2f420-5468-4050-a81e-6906cfe6f0d2",
   "metadata": {},
   "outputs": [],
   "source": []
  },
  {
   "cell_type": "markdown",
   "id": "04426ddf-0767-4016-9001-954a3c67868e",
   "metadata": {},
   "source": [
    "## (f) Create a 5x5 Matrix with Values 1, 2, 3, 4 Just Below the Diagonal\n",
    "## We can fill the values below the diagonal using a loop or directly with NumPy.\n",
    "## We created a 5x5 zero matrix and filled the elements just below the diagonal with the values 1, 2, 3, and 4 using a loop.\n"
   ]
  },
  {
   "cell_type": "code",
   "execution_count": 92,
   "id": "598a954b-788f-4b75-8f23-1c7dfdbf8112",
   "metadata": {},
   "outputs": [
    {
     "name": "stdout",
     "output_type": "stream",
     "text": [
      "5x5 Matrix with Values 1, 2, 3, 4 Just Below the Diagonal:\n",
      " [[0. 0. 0. 0. 0.]\n",
      " [1. 0. 0. 0. 0.]\n",
      " [0. 2. 0. 0. 0.]\n",
      " [0. 0. 3. 0. 0.]\n",
      " [0. 0. 0. 4. 0.]]\n"
     ]
    }
   ],
   "source": [
    "matrix_below_diagonal = np.zeros((5, 5))    \n",
    "for i in range(1, 5):  \n",
    "    matrix_below_diagonal[i, i-1] = i  \n",
    "\n",
    "print(\"5x5 Matrix with Values 1, 2, 3, 4 Just Below the Diagonal:\\n\", matrix_below_diagonal)  "
   ]
  },
  {
   "cell_type": "code",
   "execution_count": null,
   "id": "bd5d35a4-a75f-4927-9bf5-80238d15169c",
   "metadata": {},
   "outputs": [],
   "source": []
  },
  {
   "cell_type": "code",
   "execution_count": null,
   "id": "1c92b554-a14b-47e4-af92-2e53ed73c877",
   "metadata": {},
   "outputs": [],
   "source": [
    "(g) Normalize a 5x5 Random Matrix\n",
    "Normalization typically means scaling the values to a range, often [0, 1].\n",
    "\n",
    "Code:\n",
    "\n",
    "python\n",
    "# Create a 5x5 random matrix  \n",
    "random_matrix = np.random.rand(5, 5)  \n",
    "print(\"Original 5x5 Random Matrix:\\n\", random_matrix)  \n",
    "\n",
    "# Normalize the matrix  \n",
    "normalized_matrix = (random_matrix - np.min(random_matrix)) / (np.max(random_matrix) - np.min(random_matrix))  \n",
    "print(\"Normalized 5x5 Matrix:\\n\", normalized_matrix)  \n",
    "Explanation:\n",
    "\n",
    "We first created a random 5x5 matrix and then normalized it by subtracting the minimum value and dividing by the range (max - min)."
   ]
  },
  {
   "cell_type": "markdown",
   "id": "36127ac8-12dc-4395-8a40-749b2ea57c49",
   "metadata": {},
   "source": [
    "## (g) Normalize a 5x5 Random Matrix\n",
    "## Normalization typically means scaling the values to a range, often [0, 1].\n",
    "## We first created a random 5x5 matrix and then normalized it by subtracting the minimum value and dividing by the range (max - min)."
   ]
  },
  {
   "cell_type": "code",
   "execution_count": 94,
   "id": "afed15dd-2a8c-47d4-80bf-6b70d0b9d942",
   "metadata": {},
   "outputs": [
    {
     "name": "stdout",
     "output_type": "stream",
     "text": [
      "Original 5x5 Random Matrix:\n",
      " [[0.49355033 0.41578071 0.61537335 0.70524907 0.29614445]\n",
      " [0.50136392 0.57175165 0.79908683 0.19767142 0.11580758]\n",
      " [0.21512946 0.14221648 0.49915311 0.47747862 0.67283976]\n",
      " [0.57781121 0.81182397 0.28397124 0.0166366  0.92251588]\n",
      " [0.86060802 0.89930306 0.27838879 0.78664451 0.30606381]]\n",
      "Normalized 5x5 Matrix:\n",
      " [[0.52646499 0.44061512 0.6609454  0.76015919 0.30854867]\n",
      " [0.53509041 0.61279142 0.86374669 0.19984431 0.10947483]\n",
      " [0.21911623 0.1386276  0.5326499  0.50872343 0.72438257]\n",
      " [0.61948057 0.87780722 0.29511066 0.         1.        ]\n",
      " [0.93165992 0.97437536 0.2889482  0.85001161 0.31949866]]\n"
     ]
    }
   ],
   "source": [
    "random_matrix = np.random.rand(5, 5)  \n",
    "print(\"Original 5x5 Random Matrix:\\n\", random_matrix)   \n",
    "normalized_matrix = (random_matrix - np.min(random_matrix)) / (np.max(random_matrix) - np.min(random_matrix))  \n",
    "print(\"Normalized 5x5 Matrix:\\n\", normalized_matrix)  "
   ]
  },
  {
   "cell_type": "code",
   "execution_count": null,
   "id": "b6a3593d-0d8a-4d23-ab73-9b5c07c11e19",
   "metadata": {},
   "outputs": [],
   "source": []
  },
  {
   "cell_type": "code",
   "execution_count": null,
   "id": "22ae24e8-e340-455b-9c77-15f2d9e4831b",
   "metadata": {},
   "outputs": [],
   "source": [
    "(h) Get Dates of Yesterday, Today, and Tomorrow\n",
    "We can use the datetime module to handle dates.\n",
    "\n",
    "Code:\n",
    "\n",
    "python\n",
    "from datetime import datetime, timedelta  \n",
    "\n",
    "# Get today's date  \n",
    "today = datetime.now().date()  \n",
    "yesterday = today - timedelta(days=1)  \n",
    "tomorrow = today + timedelta(days=1)  \n",
    "\n",
    "print(\"Yesterday's Date:\", yesterday)  \n",
    "print(\"Today's Date:\", today)  \n",
    "print(\"Tomorrow's Date:\", tomorrow)  \n",
    "Explanation:\n",
    "\n",
    "We used datetime.now().date() to get today's date and timedelta to calculate yesterday and tomorrow by adding or subtracting days."
   ]
  },
  {
   "cell_type": "markdown",
   "id": "df64e371-d954-43a3-a9f8-a7e735f75aa2",
   "metadata": {},
   "source": [
    "## (h) Getting Dates of Yesterday, Today, and Tomorrow\n",
    "## We can use the datetime module to handle dates.\n",
    "\n",
    "## We used datetime.now().date() to get today's date and timedelta to calculate yesterday and tomorrow by adding or subtracting days.\n"
   ]
  },
  {
   "cell_type": "markdown",
   "id": "1a3f710a-da49-4bb6-9881-bf4fdaa961b4",
   "metadata": {},
   "source": [
    "importing  datetime"
   ]
  },
  {
   "cell_type": "code",
   "execution_count": 95,
   "id": "f8f0f484-115d-4a0e-9ef3-349f1e75b9ea",
   "metadata": {},
   "outputs": [],
   "source": [
    "from datetime import datetime, timedelta"
   ]
  },
  {
   "cell_type": "code",
   "execution_count": null,
   "id": "dfd733f4-df2c-41fe-a4d2-5d1861ac6763",
   "metadata": {},
   "outputs": [],
   "source": [
    "  \n",
    "today = datetime.now().date()  \n",
    "yesterday = today - timedelta(days=1)  \n",
    "tomorrow = today + timedelta(days=1)  \n",
    "\n",
    "print(\"Yesterday's Date:\", yesterday)  \n",
    "print(\"Today's Date:\", today)  \n",
    "print(\"Tomorrow's Date:\", tomorrow) "
   ]
  },
  {
   "cell_type": "code",
   "execution_count": null,
   "id": "d67a562a-ce42-49fb-b4f9-5090133e1157",
   "metadata": {},
   "outputs": [],
   "source": []
  },
  {
   "cell_type": "code",
   "execution_count": null,
   "id": "ce89af40-a187-4f62-a517-fbec48242832",
   "metadata": {},
   "outputs": [],
   "source": [
    "(i) Find Indices of Non-Zero Elements\n",
    "We can use NumPy's nonzero function to find indices of non-zero elements in an array.\n",
    "\n",
    "Code:\n",
    "\n",
    "python\n",
    "# Array to check for non-zero elements  \n",
    "array = np.array([1, 2, 0, 0, 4, 0])  \n",
    "\n",
    "# Find indices of non-zero elements  \n",
    "non_zero_indices = np.nonzero(array)[0]  # [0] to get the actual indices  \n",
    "print(\"Indices of Non-Zero Elements:\", non_zero_indices)  \n",
    "Explanation:\n",
    "\n",
    "We created a NumPy array and used np.nonzero() to get the indices of non-zero elements. The output is a tuple, so we access the first element to get the indices.\n"
   ]
  },
  {
   "cell_type": "markdown",
   "id": "d4c57e22-44fe-421a-b842-f84b607a9ec5",
   "metadata": {},
   "source": [
    "## (i) Find Indices of Non-Zero Elements\n",
    "## We can use NumPy's nonzero function to find indices of non-zero elements in an array.\n",
    "## We created a NumPy array and used np.nonzero() to get the indices of non-zero elements. \n",
    "## The output is a tuple, so we access the first element to get the indices.\n"
   ]
  },
  {
   "cell_type": "code",
   "execution_count": 96,
   "id": "1fcaf36b-52ec-4b55-87ff-664c0ae4ad8b",
   "metadata": {},
   "outputs": [
    {
     "name": "stdout",
     "output_type": "stream",
     "text": [
      "Indices of Non-Zero Elements: [0 1 4]\n"
     ]
    }
   ],
   "source": [
    "array = np.array([1, 2, 0, 0, 4, 0])  \n",
    "non_zero_indices = np.nonzero(array)[0]  \n",
    "print(\"Indices of Non-Zero Elements:\", non_zero_indices)  "
   ]
  },
  {
   "cell_type": "code",
   "execution_count": null,
   "id": "d6d74f06-d2c4-4cbc-8fe5-b0edb80a9df8",
   "metadata": {},
   "outputs": [],
   "source": []
  },
  {
   "cell_type": "code",
   "execution_count": null,
   "id": "adb2b47c-e6dc-4e3f-b4a8-eabc5b64f482",
   "metadata": {},
   "outputs": [],
   "source": []
  },
  {
   "cell_type": "code",
   "execution_count": null,
   "id": "a7307065-1a24-4d6c-a706-c0e875792a3f",
   "metadata": {},
   "outputs": [],
   "source": []
  },
  {
   "cell_type": "code",
   "execution_count": null,
   "id": "eba7ef4c-663a-4d37-8697-f92e50112648",
   "metadata": {},
   "outputs": [],
   "source": []
  }
 ],
 "metadata": {
  "kernelspec": {
   "display_name": "Python 3 (ipykernel)",
   "language": "python",
   "name": "python3"
  },
  "language_info": {
   "codemirror_mode": {
    "name": "ipython",
    "version": 3
   },
   "file_extension": ".py",
   "mimetype": "text/x-python",
   "name": "python",
   "nbconvert_exporter": "python",
   "pygments_lexer": "ipython3",
   "version": "3.12.5"
  }
 },
 "nbformat": 4,
 "nbformat_minor": 5
}
